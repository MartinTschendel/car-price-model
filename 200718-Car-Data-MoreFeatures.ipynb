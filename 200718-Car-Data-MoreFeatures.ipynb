{
 "cells": [
  {
   "cell_type": "code",
   "execution_count": 492,
   "metadata": {},
   "outputs": [],
   "source": [
    "#import modules\n",
    "import pandas as pd\n",
    "import numpy as np\n",
    "\n",
    "from matplotlib import pyplot as plt\n",
    "import seaborn as sns\n",
    "%matplotlib inline\n",
    "\n",
    "#get dataset, clean it up \n",
    "df = pd.read_csv('data.csv')\n",
    "df.columns = df.columns.str.lower().str.replace(' ', '_')\n",
    "string_columns = list(df.dtypes[df.dtypes == 'object'].index)\n",
    "for col in string_columns:\n",
    "    df[col] = df[col].str.lower().str.replace(' ', '_')"
   ]
  },
  {
   "cell_type": "code",
   "execution_count": 493,
   "metadata": {},
   "outputs": [],
   "source": [
    "#split the dataset in training, validation and testing part\n",
    "n = len(df)\n",
    "n_val = int(0.2 * n)\n",
    "n_test = int(0.2 * n)\n",
    "n_train = n - (n_val + n_test)\n",
    "\n",
    "np.random.seed(2)\n",
    "idx = np.arange(n)\n",
    "np.random.shuffle(idx)\n",
    "\n",
    "df_shuffled = df.iloc[idx]\n",
    "\n",
    "df_train = df_shuffled.iloc[:n_train].copy()\n",
    "df_val = df_shuffled.iloc[n_train:n_train+n_val].copy()\n",
    "df_test = df_shuffled.iloc[n_train+n_val:].copy()"
   ]
  },
  {
   "cell_type": "code",
   "execution_count": 494,
   "metadata": {},
   "outputs": [],
   "source": [
    "#calculate logarithm of target variable\n",
    "#because the distribution of the target variable has a 'long tail'\n",
    "y_train = np.log1p(df_train.msrp.values)\n",
    "y_val = np.log1p(df_val.msrp.values)\n",
    "y_test = np.log1p(df_test.msrp.values)\n",
    "\n",
    "del df_train['msrp']\n",
    "del df_val['msrp']\n",
    "del df_test['msrp']"
   ]
  },
  {
   "cell_type": "code",
   "execution_count": 495,
   "metadata": {},
   "outputs": [],
   "source": [
    "#define the first numerical features\n",
    "#the new training set only contains the selected base columns\n",
    "#empty values are replaced with 0\n",
    "#training set is transformed to matrix array with 'value' method \n",
    "base = ['engine_hp', 'engine_cylinders', 'highway_mpg', 'city_mpg', 'popularity']\n",
    "df_num = df_train[base]\n",
    "df_num = df_num.fillna(0)\n",
    "\n",
    "X_train = df_num.values"
   ]
  },
  {
   "cell_type": "code",
   "execution_count": 496,
   "metadata": {},
   "outputs": [],
   "source": [
    "#this function returns weights\n",
    "def linear_regression(X, y):\n",
    "    ones = np.ones(X.shape[0])\n",
    "    X = np.column_stack([ones, X])\n",
    "    \n",
    "    XTX = X.T.dot(X)\n",
    "    XTX_inv = np.linalg.inv(XTX)\n",
    "    w = XTX_inv.dot(X.T).dot(y)\n",
    "    return w[0], w[1:]\n",
    "w_0, w = linear_regression(X_train, y_train)\n",
    "\n",
    "#prediction of target variable, based on training set\n",
    "y_pred = w_0 + X_train.dot(w)"
   ]
  },
  {
   "cell_type": "code",
   "execution_count": 497,
   "metadata": {},
   "outputs": [
    {
     "data": {
      "text/plain": [
       "<matplotlib.legend.Legend at 0x2b63b782908>"
      ]
     },
     "execution_count": 497,
     "metadata": {},
     "output_type": "execute_result"
    },
    {
     "data": {
      "image/png": "[encoded data removed]",
      "text/plain": [
       "<Figure size 432x288 with 1 Axes>"
      ]
     },
     "metadata": {
      "needs_background": "light"
     },
     "output_type": "display_data"
    }
   ],
   "source": [
    "#the plot shows difference between distribution of \n",
    "#real target variable and predicted target variables\n",
    "sns.distplot(y_pred, label='pred')\n",
    "sns.distplot(y_train, label='target')\n",
    "plt.legend()"
   ]
  },
  {
   "cell_type": "code",
   "execution_count": 498,
   "metadata": {},
   "outputs": [
    {
     "data": {
      "text/plain": [
       "0.7554192603920132"
      ]
     },
     "execution_count": 498,
     "metadata": {},
     "output_type": "execute_result"
    }
   ],
   "source": [
    "#calculation of the root mean squared error\n",
    "#based on difference between distribution of \n",
    "#real target variable and predicted target variable\n",
    "def rmse(y, y_pred):\n",
    "    error = y_pred - y\n",
    "    mse = (error ** 2).mean()\n",
    "    return np.sqrt(mse)\n",
    "rmse(y_train, y_pred)"
   ]
  },
  {
   "cell_type": "markdown",
   "metadata": {},
   "source": [
    "Validating the Model"
   ]
  },
  {
   "cell_type": "code",
   "execution_count": 499,
   "metadata": {},
   "outputs": [],
   "source": [
    "#create the X_val matrix array\n",
    "df_num = df_val[base]\n",
    "df_num = df_num.fillna(0)\n",
    "X_val = df_num.values"
   ]
  },
  {
   "cell_type": "code",
   "execution_count": 500,
   "metadata": {},
   "outputs": [],
   "source": [
    "#take the bias and the weights (w_0 and w), what we got from the linear regression\n",
    "#and get the prediction of the target variable for the validation dataset\n",
    "y_pred = w_0 + X_val.dot(w)"
   ]
  },
  {
   "cell_type": "code",
   "execution_count": 501,
   "metadata": {},
   "outputs": [
    {
     "data": {
      "text/plain": [
       "0.7616530991301601"
      ]
     },
     "execution_count": 501,
     "metadata": {},
     "output_type": "execute_result"
    }
   ],
   "source": [
    "#compare y_pred with real target values 'y_val'\n",
    "#that number should be used for comparing models\n",
    "rmse(y_val, y_pred)"
   ]
  },
  {
   "cell_type": "markdown",
   "metadata": {},
   "source": [
    "<b>prepare_X</b> function converts dataframe in matrix (array)"
   ]
  },
  {
   "cell_type": "code",
   "execution_count": 502,
   "metadata": {},
   "outputs": [],
   "source": [
    "#this function takes in feature variables (base),\n",
    "#replaces empty values with 0\n",
    "#and returns a matrix array with 'values'\n",
    "def prepare_X(df):\n",
    "    df_num = df[base]\n",
    "    df_num = df_num.fillna(0)\n",
    "    X = df_num.values\n",
    "    return X"
   ]
  },
  {
   "cell_type": "code",
   "execution_count": 503,
   "metadata": {},
   "outputs": [
    {
     "name": "stdout",
     "output_type": "stream",
     "text": [
      "validation: 0.7616530991301601\n"
     ]
    }
   ],
   "source": [
    "#train the model by calculating the weights\n",
    "X_train = prepare_X(df_train)\n",
    "w_0, w = linear_regression(X_train, y_train)\n",
    "\n",
    "#apply model to validation dataset\n",
    "X_val = prepare_X(df_val)\n",
    "y_pred = w_0 + X_val.dot(w)\n",
    "\n",
    "#compute RMSE on validation dataset\n",
    "print('validation:', rmse(y_val, y_pred))"
   ]
  },
  {
   "cell_type": "markdown",
   "metadata": {},
   "source": [
    "Feature engineering: Add more features to the model<br>\n",
    "we use the validation framework to see whether more features improve the model"
   ]
  },
  {
   "cell_type": "code",
   "execution_count": 504,
   "metadata": {},
   "outputs": [
    {
     "data": {
      "text/plain": [
       "2017"
      ]
     },
     "execution_count": 504,
     "metadata": {},
     "output_type": "execute_result"
    }
   ],
   "source": [
    "#df was created in 2017\n",
    "df_train.year.max()"
   ]
  },
  {
   "cell_type": "code",
   "execution_count": 505,
   "metadata": {},
   "outputs": [],
   "source": [
    "#write a new column 'age' to the df_train\n",
    "df_train['age'] = 2017 - df_train.year"
   ]
  },
  {
   "cell_type": "code",
   "execution_count": 506,
   "metadata": {},
   "outputs": [],
   "source": [
    "#use prepare_X function to add 'age' feature \n",
    "def prepare_X(df):\n",
    "    #create a copy to prevent side effects\n",
    "    df = df.copy()\n",
    "    #create copy of base list with basic features\n",
    "    features = base.copy()\n",
    "    \n",
    "    #compute age feature and add it to features list\n",
    "    df['age'] = 2017 - df.year\n",
    "    features.append('age')\n",
    "    \n",
    "    df_num = df[features]\n",
    "    df_num = df_num.fillna(0)\n",
    "    X = df_num.values\n",
    "    return X\n",
    "    \n",
    "    "
   ]
  },
  {
   "cell_type": "code",
   "execution_count": 507,
   "metadata": {},
   "outputs": [
    {
     "name": "stdout",
     "output_type": "stream",
     "text": [
      "validation: 0.5172055461058335\n"
     ]
    }
   ],
   "source": [
    "#check if adding the feature 'age' can improve the model\n",
    "#train the model\n",
    "#within the 'prepare_X' function, we use df_train as an argument\n",
    "#within the 'prepare_X' function, we include 'age' in the features\n",
    "X_train = prepare_X(df_train)\n",
    "w_0, w = linear_regression(X_train, y_train)\n",
    "\n",
    "#apply model to validation dataset\n",
    "X_val = prepare_X(df_val)\n",
    "y_pred = w_0 + X_val.dot(w)\n",
    "\n",
    "#compute RMSE on validation dataset\n",
    "print('validation:', rmse(y_val, y_pred))"
   ]
  },
  {
   "cell_type": "code",
   "execution_count": 508,
   "metadata": {},
   "outputs": [
    {
     "data": {
      "text/plain": [
       "<matplotlib.legend.Legend at 0x2b638beb688>"
      ]
     },
     "execution_count": 508,
     "metadata": {},
     "output_type": "execute_result"
    },
    {
     "data": {
      "image/png": "[encoded data removed]",
      "text/plain": [
       "<Figure size 432x288 with 1 Axes>"
      ]
     },
     "metadata": {
      "needs_background": "light"
     },
     "output_type": "display_data"
    }
   ],
   "source": [
    "#plot the distributions of the real target variable (target)\n",
    "#and the predicted target variable (pred)\n",
    "#after whe included 'age' to the features\n",
    "sns.distplot(y_pred, label='pred')\n",
    "sns.distplot(y_val, label='target')\n",
    "plt.legend()"
   ]
  },
  {
   "cell_type": "markdown",
   "metadata": {},
   "source": [
    "Categorical Variables"
   ]
  },
  {
   "cell_type": "code",
   "execution_count": 509,
   "metadata": {},
   "outputs": [],
   "source": [
    "#make use of the one-hot encoding for number of doors feature\n",
    "#make use of the one-hot encoding for make feature\n",
    "def prepare_X(df):\n",
    "    df = df.copy()\n",
    "    features = base.copy()\n",
    "    df['age'] = 2017 - df.year\n",
    "    features.append('age')\n",
    "    \n",
    "    for v in [2, 3, 4]:\n",
    "        #give a feature a useful name, e.g. 'num_doors_2' for v = 2\n",
    "        feature = 'num_doors_%s' % v \n",
    "        #create one-hot encoding feature\n",
    "        #here a new pandas series is created (number_of_doors) (actually 3; for v=2,3,4)\n",
    "        #astype(int) gives a 1 for True and a 0 for False\n",
    "        value = (df['number_of_doors'] == v).astype(int)\n",
    "        #add the feature back to the df, using the feature name\n",
    "        df[feature] = value\n",
    "        features.append(feature)\n",
    "        \n",
    "    for v in ['chevrolet', 'ford', 'volkswagen', 'toyota', 'dodge']:\n",
    "        feature = 'is_make_%s' % v\n",
    "        df[feature] = (df['make'] == v).astype(int)\n",
    "        features.append(feature)\n",
    "    \n",
    "    df_num = df[features]\n",
    "    df_num = df_num.fillna(0)\n",
    "    X = df_num.values\n",
    "    return X"
   ]
  },
  {
   "cell_type": "code",
   "execution_count": 510,
   "metadata": {},
   "outputs": [
    {
     "name": "stdout",
     "output_type": "stream",
     "text": [
      "validation: 0.5076038849557034\n"
     ]
    }
   ],
   "source": [
    "#can we improve the RMSE of the model if we add \n",
    "#2 categorical variables to the feature set?\n",
    "X_train = prepare_X(df_train)\n",
    "w_0 , w = linear_regression(X_train, y_train)\n",
    "\n",
    "X_val = prepare_X(df_val)\n",
    "y_pred = w_0 + X_val.dot(w)\n",
    "print('validation:', rmse(y_val, y_pred))"
   ]
  },
  {
   "cell_type": "code",
   "execution_count": 511,
   "metadata": {},
   "outputs": [],
   "source": [
    "#function that creates the base lists of totally 7 categorical variables\n",
    "#that should be considered as feature variables\n",
    "#these categorical variables have different values\n",
    "#we use list_length as an argument of this function in order to determine\n",
    "#how many values we want to consider during the training of the model\n",
    "def base_maker(list_length):\n",
    "    base_02 = df['make'].value_counts()[:list_length].index.tolist()\n",
    "    base_03 = df['engine_fuel_type'].value_counts()[:list_length].index.tolist()\n",
    "    base_04 = df['transmission_type'].value_counts()[:list_length].index.tolist()\n",
    "    base_05 = df['driven_wheels'].value_counts()[:list_length].index.tolist()\n",
    "    base_06 = df['market_category'].value_counts()[:list_length].index.tolist()\n",
    "    base_07 = df['vehicle_size'].value_counts()[:list_length].index.tolist()\n",
    "    base_08 = df['vehicle_style'].value_counts()[:list_length].index.tolist()\n",
    "    return base_02, base_03, base_04, base_05, base_06, base_07, base_08"
   ]
  },
  {
   "cell_type": "code",
   "execution_count": 512,
   "metadata": {},
   "outputs": [
    {
     "data": {
      "text/plain": [
       "[4.0, 2.0, 3.0]"
      ]
     },
     "execution_count": 512,
     "metadata": {},
     "output_type": "execute_result"
    }
   ],
   "source": [
    "#num doors is the first categorical variable, that we consider as a feature variable\n",
    "#we don't include it in the base_maker function, because it would throw an error\n",
    "#if we would set 'list_length' to a value bigger than 3\n",
    "base_01 = df['number_of_doors'].value_counts()[:3].index.tolist()\n",
    "base_01"
   ]
  },
  {
   "cell_type": "code",
   "execution_count": 513,
   "metadata": {},
   "outputs": [],
   "source": [
    "#add the above categorical variables to the feature list (on top of the\n",
    "#already existing features (such as the numerical variables, age and number of doors))\n",
    "#we can change the value of 'list_length_val' and determine the number of values\n",
    "#of the categorical variables\n",
    "def prepare_X(df):\n",
    "    list_length_val = 9\n",
    "    df = df.copy()\n",
    "    features = base.copy()\n",
    "    df['age'] = 2017 - df.year\n",
    "    features.append('age')\n",
    "    \n",
    "    #number of doors\n",
    "    for v in base_01:\n",
    "        feature = 'num_doors_%s' % v \n",
    "        value = (df['number_of_doors'] == v).astype(int)\n",
    "        df[feature] = value\n",
    "        features.append(feature)\n",
    "    \n",
    "    #car make\n",
    "    for v in base_maker(list_length_val)[0]:\n",
    "        feature = 'is_make_%s' % v\n",
    "        df[feature] = (df['make'] == v).astype(int)\n",
    "        features.append(feature)\n",
    "    \n",
    "    #type\n",
    "    for v in base_maker(list_length_val)[1]: #A\n",
    "        feature = 'is_type_%s' % v\n",
    "        df[feature] = (df['engine_fuel_type'] == v).astype(int)\n",
    "        features.append(feature)\n",
    "    \n",
    "    #transmission\n",
    "    for v in base_maker(list_length_val)[2]: #B\n",
    "        feature = 'is_transmission_%s' % v\n",
    "        df[feature] = (df['transmission_type'] == v).astype(int)\n",
    "        features.append(feature)\n",
    "    \n",
    "    #number of driven wheels\n",
    "    for v in base_maker(list_length_val)[3]: #C\n",
    "        feature = 'is_driven_wheels_%s' % v\n",
    "        df[feature] = (df['driven_wheels'] == v).astype(int)\n",
    "        features.append(feature)\n",
    "    \n",
    "    #market category\n",
    "    for v in base_maker(list_length_val)[4]: #D\n",
    "        feature = 'is_mc_%s' % v\n",
    "        df[feature] = (df['market_category'] == v).astype(int)\n",
    "        features.append(feature)\n",
    "    \n",
    "    #size\n",
    "    for v in base_maker(list_length_val)[5]: #E\n",
    "        feature = 'is_size_%s' % v\n",
    "        df[feature] = (df['vehicle_size'] == v).astype(int)\n",
    "        features.append(feature)\n",
    "    \n",
    "    #style\n",
    "    for v in base_maker(list_length_val)[6]: #F\n",
    "        feature = 'is_style_%s' % v\n",
    "        df[feature] = (df['vehicle_style'] == v).astype(int)\n",
    "        features.append(feature)\n",
    "    \n",
    "    df_num = df[features]\n",
    "    df_num = df_num.fillna(0)\n",
    "    X = df_num.values\n",
    "    return X"
   ]
  },
  {
   "cell_type": "code",
   "execution_count": 514,
   "metadata": {},
   "outputs": [
    {
     "name": "stdout",
     "output_type": "stream",
     "text": [
      "validation: 247.84099490057054\n"
     ]
    }
   ],
   "source": [
    "#can we improve the RMSE of the model?\n",
    "#in fact: no\n",
    "X_train = prepare_X(df_train)\n",
    "w_0 , w = linear_regression(X_train, y_train)\n",
    "\n",
    "X_val = prepare_X(df_val)\n",
    "y_pred = w_0 + X_val.dot(w)\n",
    "print('validation:', rmse(y_val, y_pred))"
   ]
  },
  {
   "cell_type": "markdown",
   "metadata": {},
   "source": [
    "What is the reason for this huge rmse?<br>\n",
    "Take a look at the normal equation:<br>\n",
    "<img src=\"2-weight-calculation.png\" width=200 align=\"left\"><br><br><br><br>\n",
    "* one issue: inversion of he matrix (XTX)-1<br>\n",
    "* --> we could get a singular matrix, when we add a column, that is a combination \n",
    "of other columns\n",
    "* in addition, the data is often 'noisy' (has errors, numerical instability issues)\n",
    "* solution: regularization (controlling of the weights)\n",
    "\n",
    "The new linear regression with regularization is called:<br>\n",
    "<b>Ridge Regression</b><br>\n",
    "<img src=\"4-ridge.png\" width=200 align=\"left\"><br><br><br>\n",
    "* I is a matrix with 1 on the diagonal and zeros everywhere else\n",
    "* alpha is a number\n",
    "* this adds alpha to all diagonal elements of XTX\n",
    "* in python: XTX = XTX + 0.01 * np.eye(XTX.shape[0])\n",
    "\n",
    "\n",
    "\n"
   ]
  },
  {
   "cell_type": "code",
   "execution_count": 515,
   "metadata": {},
   "outputs": [],
   "source": [
    "#regularize with the parameter r\n",
    "def linear_regression_reg(X, y, r=0.01):\n",
    "    ones = np.ones(X.shape[0])\n",
    "    X = np.column_stack([ones, X])\n",
    "    \n",
    "    XTX = X.T.dot(X)\n",
    "    #add r to main diagonal of XTX\n",
    "    reg = r * np.eye(XTX.shape[0])\n",
    "    XTX = XTX + reg\n",
    "    \n",
    "    XTX_inv = np.linalg.inv(XTX)\n",
    "    w = XTX_inv.dot(X.T).dot(y)\n",
    "    \n",
    "    return w[0], w[1:]\n",
    "    "
   ]
  },
  {
   "cell_type": "code",
   "execution_count": 516,
   "metadata": {},
   "outputs": [
    {
     "name": "stdout",
     "output_type": "stream",
     "text": [
      "    0, -4790972080001581.00, -10.05, 8157.85\n",
      "0.001, 6.19, -0.17, -0.64\n",
      " 0.01, 6.15, -0.17, -0.58\n",
      "  0.1, 5.91, -0.17, -0.28\n",
      "    1, 5.31, -0.17, 0.03\n",
      "   10, 4.21, -0.15, 0.19\n"
     ]
    }
   ],
   "source": [
    "# the bigger r (alpha), the smaller the weights (the denominator (Nenner) becomes bigger)\n",
    "# on the left 'column', you can see r, that growths with each step\n",
    "for r in [0, 0.001, 0.01, 0.1, 1, 10]:\n",
    "    w_0, w = linear_regression_reg(X_train, y_train, r=r)\n",
    "    print('%5s, %.2f, %.2f, %.2f' % (r, w_0, w[13], w[21]))"
   ]
  },
  {
   "cell_type": "code",
   "execution_count": 517,
   "metadata": {},
   "outputs": [
    {
     "name": "stdout",
     "output_type": "stream",
     "text": [
      "validation: 0.44503301350166263\n"
     ]
    }
   ],
   "source": [
    "# what about our RMSE\n",
    "X_train = prepare_X(df_train)\n",
    "w_0, w = linear_regression_reg(X_train, y_train, r=0.001)\n",
    "\n",
    "X_val = prepare_X(df_val)\n",
    "y_pred = w_0 + X_val.dot(w)\n",
    "\n",
    "print('validation:', rmse(y_val, y_pred))"
   ]
  },
  {
   "cell_type": "code",
   "execution_count": 518,
   "metadata": {},
   "outputs": [
    {
     "name": "stdout",
     "output_type": "stream",
     "text": [
      " 1e-06 0.44503906795361975\n",
      "0.0001 0.4450371779542024\n",
      " 0.001 0.44503301350166263\n",
      "  0.01 0.4449993015660045\n",
      "   0.1 0.4449565176268307\n",
      "     1 0.44572564331770254\n",
      "     5 0.4503942639682826\n",
      "    10 0.45795381120569184\n"
     ]
    }
   ],
   "source": [
    "#run a grid search to identify the best value of r\n",
    "X_train = prepare_X(df_train)\n",
    "X_val = prepare_X(df_val)\n",
    "\n",
    "for r in [0.000001, 0.0001, 0.001, 0.01, 0.1, 1, 5, 10]:\n",
    "    w_0, w = linear_regression_reg(X_train, y_train, r=r)\n",
    "    y_pred = w_0 + X_val.dot(w)\n",
    "    print('%6s' %r, rmse(y_val, y_pred))"
   ]
  },
  {
   "cell_type": "code",
   "execution_count": 519,
   "metadata": {},
   "outputs": [
    {
     "name": "stdout",
     "output_type": "stream",
     "text": [
      "validation: 0.4449993015660045\n",
      "test: 0.4403028634315108\n"
     ]
    }
   ],
   "source": [
    "#let's take the model with r=0.01\n",
    "#check it against test dataset to see if model works\n",
    "X_train = prepare_X(df_train)\n",
    "w_0, w = linear_regression_reg(X_train, y_train, r=0.01)\n",
    "\n",
    "X_val = prepare_X(df_val)\n",
    "y_pred = w_0 + X_val.dot(w)\n",
    "print('validation:', rmse(y_val, y_pred))\n",
    "\n",
    "X_test = prepare_X(df_test)\n",
    "y_pred = w_0 + X_test.dot(w)\n",
    "print('test:', rmse(y_test, y_pred))"
   ]
  },
  {
   "cell_type": "markdown",
   "metadata": {},
   "source": [
    "Now we can help the user to predict the price of a car"
   ]
  },
  {
   "cell_type": "code",
   "execution_count": 520,
   "metadata": {},
   "outputs": [],
   "source": [
    "#the user posts an ad with the following car specifications \n",
    "#on the web site\n",
    "ad = {\n",
    "    'city_mpg': 18,\n",
    "    'driven_wheels': 'all_wheel_drive',\n",
    "    'engine_cylinders': 6.0,\n",
    "    'engine_fuel_type': 'regular_unleaded',\n",
    "    'engine_hp': 268.0,\n",
    "    'highway_mpg': 25,\n",
    "    'make': 'toyota',\n",
    "    'market_category': 'crossover,performance',\n",
    "    'model': 'venza',\n",
    "    'number_of_doors': 4.0,\n",
    "    'popularity': 2031,\n",
    "    'transmission_type': 'automatic',\n",
    "    'vehicle_size': 'midsize',\n",
    "    'vehicle_style': 'wagon',\n",
    "    'year': 2014\n",
    "}"
   ]
  },
  {
   "cell_type": "code",
   "execution_count": 521,
   "metadata": {},
   "outputs": [],
   "source": [
    "#dt_test is a dataframe with one row (contains the above dictionary info)\n",
    "df_test = pd.DataFrame([ad])\n",
    "#transformation of df to an array matrix\n",
    "X_test = prepare_X(df_test)"
   ]
  },
  {
   "cell_type": "code",
   "execution_count": 522,
   "metadata": {},
   "outputs": [
    {
     "data": {
      "text/plain": [
       "array([35023.40961271])"
      ]
     },
     "execution_count": 522,
     "metadata": {},
     "output_type": "execute_result"
    }
   ],
   "source": [
    "#prediction of the price\n",
    "y_pred = w_0 + X_test.dot(w)\n",
    "#undo logarithm with exponent function\n",
    "suggestion = np.expm1(y_pred)\n",
    "suggestion"
   ]
  },
  {
   "cell_type": "code",
   "execution_count": 523,
   "metadata": {},
   "outputs": [
    {
     "data": {
      "text/plain": [
       "11279    39570\n",
       "11282    35080\n",
       "11283    31220\n",
       "Name: msrp, dtype: int64"
      ]
     },
     "execution_count": 523,
     "metadata": {},
     "output_type": "execute_result"
    }
   ],
   "source": [
    "#find indices in df, where car (that really exist) hav specific features\n",
    "#and get the real prices for comparison\n",
    "ind_list = df.index[(df['city_mpg']==18) & \n",
    "         (df['driven_wheels']=='all_wheel_drive') &\n",
    "         (df['engine_cylinders']==6.0) &\n",
    "         (df['engine_fuel_type']=='regular_unleaded') &\n",
    "         (df['engine_hp']==268.0) &\n",
    "         (df['highway_mpg']==25) &\n",
    "         (df['make']=='toyota') &\n",
    "         (df['market_category']=='crossover,performance') &\n",
    "         (df['model']=='venza') &\n",
    "         (df['number_of_doors']== 4.0) &\n",
    "         (df['popularity']== 2031) &\n",
    "         (df['transmission_type']== 'automatic') &\n",
    "         (df['vehicle_size']== 'midsize') &\n",
    "         (df['vehicle_style']== 'wagon') &\n",
    "         (df['year']== 2014)].tolist()\n",
    "df.loc[ind_list].msrp"
   ]
  },
  {
   "cell_type": "code",
   "execution_count": null,
   "metadata": {},
   "outputs": [],
   "source": []
  }
 ],
 "metadata": {
  "kernelspec": {
   "display_name": "Python 3",
   "language": "python",
   "name": "python3"
  },
  "language_info": {
   "codemirror_mode": {
    "name": "ipython",
    "version": 3
   },
   "file_extension": ".py",
   "mimetype": "text/x-python",
   "name": "python",
   "nbconvert_exporter": "python",
   "pygments_lexer": "ipython3",
   "version": "3.7.4"
  }
 },
 "nbformat": 4,
 "nbformat_minor": 2
}
